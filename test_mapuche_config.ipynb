{
 "cells": [
  {
   "cell_type": "code",
   "execution_count": null,
   "id": "initial_id",
   "metadata": {
    "collapsed": true
   },
   "outputs": [],
   "source": [
    "import configparser\n",
    "from mapuche_config import create_mapuche_config\n",
    "\n",
    "# leer el archivo de configuración\n",
    "config_file = configparser.ConfigParser()\n",
    "config_file.read('database.ini')\n",
    "\n",
    "# Tus parámetros de conexión reales\n",
    "connection_params = {\n",
    "    'host': config_file.get('postgresql', 'host'),\n",
    "    'port': config_file.get('postgresql', 'port'),\n",
    "    'database': config_file.get('postgresql', 'database'),\n",
    "    'user': config_file.get('postgresql', 'user'),\n",
    "    'password': config_file.get('postgresql', 'password'),\n",
    "}\n",
    "\n",
    "print(\"Parámetros cargados:\", connection_params)\n",
    "\n",
    "config = create_mapuche_config(connection_params)"
   ]
  },
  {
   "cell_type": "code",
   "execution_count": null,
   "id": "22974e675665e3b5",
   "metadata": {},
   "outputs": [],
   "source": [
    "# Probar get_periodo_fiscal_from_database\n",
    "try:\n",
    "    resultado = config.get_periodo_fiscal_from_database()\n",
    "    print(\"✅ Método ejecutado exitosamente\")\n",
    "    print(f\"Resultado: {resultado}\")\n",
    "    print(f\"Tipo: {type(resultado)}\")\n",
    "    print(f\"Año: {resultado['year']}\")\n",
    "    print(f\"Mes: {resultado['month']}\")\n",
    "except Exception as e:\n",
    "    print(f\"❌ Error: {e}\")\n",
    "    print(f\"Tipo de error: {type(e).__name__}\")"
   ]
  },
  {
   "cell_type": "code",
   "execution_count": null,
   "id": "d012736ddebb30ae",
   "metadata": {},
   "outputs": [],
   "source": [
    "anio = config.get_anio_fiscal()\n",
    "mes = config.get_mes_fiscal()\n",
    "print(f\"Año fiscal: {anio}\")\n",
    "print(f\"Mes fiscal: {mes}\")"
   ]
  },
  {
   "cell_type": "code",
   "execution_count": null,
   "id": "e5f2e2018afb72d6",
   "metadata": {},
   "outputs": [],
   "source": [
    "resultado = config.get_porcentaje_aporte_diferencial_jubilacion()\n",
    "print(f\"Porcentaje de aporte diferencial de jubilación: {resultado}\")"
   ]
  },
  {
   "cell_type": "code",
   "execution_count": null,
   "id": "53e67bc302eac415",
   "metadata": {},
   "outputs": [],
   "source": []
  }
 ],
 "metadata": {
  "kernelspec": {
   "display_name": "Python 3",
   "language": "python",
   "name": "python3"
  },
  "language_info": {
   "codemirror_mode": {
    "name": "ipython",
    "version": 3
   },
   "file_extension": ".py",
   "mimetype": "text/x-python",
   "name": "python",
   "nbconvert_exporter": "python",
   "pygments_lexer": "ipython3",
   "version": "3.12.10"
  }
 },
 "nbformat": 4,
 "nbformat_minor": 5
}
