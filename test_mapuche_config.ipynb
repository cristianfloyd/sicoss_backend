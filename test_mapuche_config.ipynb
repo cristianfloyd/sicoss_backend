{
 "cells": [
  {
   "cell_type": "code",
   "id": "initial_id",
   "metadata": {
    "collapsed": true,
    "ExecuteTime": {
     "end_time": "2025-06-23T23:49:43.171596Z",
     "start_time": "2025-06-23T23:49:43.166383Z"
    }
   },
   "source": [
    "import configparser\n",
    "from mapuche_config import create_mapuche_config\n",
    "\n",
    "# leer el archivo de configuración\n",
    "config_file = configparser.ConfigParser()\n",
    "config_file.read('database.ini')\n",
    "\n",
    "# Tus parámetros de conexión reales\n",
    "connection_params = {\n",
    "    'host': config_file.get('postgresql', 'host'),\n",
    "    'port': config_file.get('postgresql', 'port'),\n",
    "    'database': config_file.get('postgresql', 'database'),\n",
    "    'user': config_file.get('postgresql', 'user'),\n",
    "    'password': config_file.get('postgresql', 'password'),\n",
    "}\n",
    "\n",
    "print(\"Parámetros cargados:\", connection_params)\n",
    "\n",
    "config = create_mapuche_config(connection_params)"
   ],
   "outputs": [
    {
     "name": "stdout",
     "output_type": "stream",
     "text": [
      "Parámetros cargados: {'host': 'localhost', 'port': '5432', 'database': 'liqui', 'user': 'postgres', 'password': 'postgres'}\n"
     ]
    }
   ],
   "execution_count": 5
  },
  {
   "metadata": {
    "ExecuteTime": {
     "end_time": "2025-06-23T23:50:02.313958Z",
     "start_time": "2025-06-23T23:50:02.124186Z"
    }
   },
   "cell_type": "code",
   "source": [
    "# Probar get_periodo_fiscal_from_database\n",
    "try:\n",
    "    resultado = config.get_periodo_fiscal_from_database()\n",
    "    print(\"✅ Método ejecutado exitosamente\")\n",
    "    print(f\"Resultado: {resultado}\")\n",
    "    print(f\"Tipo: {type(resultado)}\")\n",
    "    print(f\"Año: {resultado['year']}\")\n",
    "    print(f\"Mes: {resultado['month']}\")\n",
    "except Exception as e:\n",
    "    print(f\"❌ Error: {e}\")\n",
    "    print(f\"Tipo de error: {type(e).__name__}\")"
   ],
   "id": "22974e675665e3b5",
   "outputs": [
    {
     "name": "stdout",
     "output_type": "stream",
     "text": [
      "✅ Método ejecutado exitosamente\n",
      "Resultado: {'year': '2025', 'month': '01'}\n",
      "Tipo: <class 'dict'>\n",
      "Año: 2025\n",
      "Mes: 01\n"
     ]
    }
   ],
   "execution_count": 6
  },
  {
   "metadata": {
    "ExecuteTime": {
     "end_time": "2025-06-24T00:12:21.368984Z",
     "start_time": "2025-06-24T00:12:21.295519Z"
    }
   },
   "cell_type": "code",
   "source": [
    "anio = config.get_anio_fiscal()\n",
    "mes = config.get_mes_fiscal()\n",
    "print(f\"Año fiscal: {anio}\")\n",
    "print(f\"Mes fiscal: {mes}\")"
   ],
   "id": "d012736ddebb30ae",
   "outputs": [
    {
     "name": "stdout",
     "output_type": "stream",
     "text": [
      "Año fiscal: 2025\n",
      "Mes fiscal: 06\n"
     ]
    }
   ],
   "execution_count": 9
  },
  {
   "metadata": {
    "ExecuteTime": {
     "end_time": "2025-06-24T00:20:13.023338Z",
     "start_time": "2025-06-24T00:20:12.985425Z"
    }
   },
   "cell_type": "code",
   "source": [
    "resultado = config.get_porcentaje_aporte_diferencial_jubilacion()\n",
    "print(f\"Porcentaje de aporte diferencial de jubilación: {resultado}\")"
   ],
   "id": "e5f2e2018afb72d6",
   "outputs": [
    {
     "name": "stdout",
     "output_type": "stream",
     "text": [
      "Porcentaje de aporte diferencial de jubilación: 2.0\n"
     ]
    }
   ],
   "execution_count": 13
  }
 ],
 "metadata": {
  "kernelspec": {
   "display_name": "Python 3",
   "language": "python",
   "name": "python3"
  },
  "language_info": {
   "codemirror_mode": {
    "name": "ipython",
    "version": 2
   },
   "file_extension": ".py",
   "mimetype": "text/x-python",
   "name": "python",
   "nbconvert_exporter": "python",
   "pygments_lexer": "ipython2",
   "version": "2.7.6"
  }
 },
 "nbformat": 4,
 "nbformat_minor": 5
}
