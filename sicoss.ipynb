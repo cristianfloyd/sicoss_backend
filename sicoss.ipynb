{
 "cells": [
  {
   "cell_type": "markdown",
   "metadata": {},
   "source": [
    "# Equivalente exacto a array_merge() de PHP\n",
    "licencias_agentes = pd.concat([licencias_agentes_no_remunem, licencias_agentes_remunem], \n",
    "                             ignore_index=True)"
   ]
  },
  {
   "cell_type": "code",
   "metadata": {
    "ExecuteTime": {
     "end_time": "2025-06-23T00:47:27.646849Z",
     "start_time": "2025-06-23T00:47:27.220136Z"
    }
   },
   "source": [
    "# PASO 1: Setup e Imports\n",
    "print(\"🚀 SICOSS Python\")\n",
    "print(\"=\" * 60)\n",
    "\n",
    "# Imports principales\n",
    "import pandas as pd\n",
    "import numpy as np\n",
    "import time\n",
    "from datetime import datetime\n",
    "import matplotlib.pyplot as plt\n",
    "import seaborn as sns\n",
    "from scipy import stats\n",
    "from SicossDataExtractor import *\n",
    "from pandas.io.formats.excel import ExcelFormatter\n",
    "from mapuche_licencias_extractor import *\n",
    "\n",
    "# Configurar visualización\n",
    "plt.style.use('seaborn-v0_8')\n",
    "pd.set_option('display.max_columns', None)\n",
    "pd.set_option('display.max_rows', 20)\n",
    "\n",
    "# Importar nuestro extractor\n",
    "from SicossDataExtractor import *\n",
    "\n",
    "print(\"✅ Imports completados\")\n",
    "print(f\"🐼 Pandas: {pd.__version__}\")\n",
    "print(f\"🔢 NumPy: {np.__version__}\")\n",
    "print(f\"📊 Matplotlib configurado\")\n",
    "print(f\"🔍 Seaborn: {sns.__version__}\")"
   ],
   "outputs": [
    {
     "name": "stdout",
     "output_type": "stream",
     "text": [
      "🚀 SICOSS Python\n",
      "============================================================\n",
      "✅ Imports completados\n",
      "🐼 Pandas: 2.3.0\n",
      "🔢 NumPy: 2.3.1\n",
      "📊 Matplotlib configurado\n",
      "🔍 Seaborn: 0.13.2\n"
     ]
    }
   ],
   "execution_count": 3
  },
  {
   "cell_type": "code",
   "execution_count": null,
   "metadata": {},
   "outputs": [],
   "source": []
  },
  {
   "cell_type": "markdown",
   "metadata": {},
   "source": [
    "## conexion a la base de datos"
   ]
  },
  {
   "cell_type": "code",
   "metadata": {
    "ExecuteTime": {
     "end_time": "2025-06-23T00:47:29.917341Z",
     "start_time": "2025-06-23T00:47:29.908894Z"
    }
   },
   "source": [
    "print(\"\\n🔌 PASO 2: Estableciendo conexión a base de datos\")\n",
    "print(\"=\" * 50)\n",
    "\n",
    "def conectar_y_validar_bd():\n",
    "    \"\"\"Establece conexión y valida datos disponibles\"\"\"\n",
    "    try:\n",
    "        # Conectar\n",
    "        db = DatabaseConnection('database.ini')\n",
    "        print(\"✅ Conexión establecida exitosamente\")\n",
    "        \n",
    "        # Validar datos básicos\n",
    "        query_test = \"\"\"\n",
    "        SELECT \n",
    "            COUNT(*) as total_legajos\n",
    "        FROM mapuche.dh01 \n",
    "        WHERE tipo_estad = 'A'\n",
    "        \"\"\"\n",
    "        \n",
    "        result = db.execute_query(query_test)\n",
    "        total_legajos = result.iloc[0]['total_legajos']\n",
    "        \n",
    "        print(f\"📊 Total legajos activos: {total_legajos:,}\")\n",
    "        \n",
    "        print(\"✅ Datos disponibles para procesamiento\")\n",
    "            \n",
    "        return db\n",
    "        \n",
    "    except Exception as e:\n",
    "        print(f\"❌ Error conectando: {e}\")\n",
    "        print(\"💡 Verifica que database.ini esté configurado correctamente\")\n",
    "        return None"
   ],
   "outputs": [
    {
     "name": "stdout",
     "output_type": "stream",
     "text": [
      "\n",
      "🔌 PASO 2: Estableciendo conexión a base de datos\n",
      "==================================================\n"
     ]
    }
   ],
   "execution_count": 4
  },
  {
   "metadata": {
    "ExecuteTime": {
     "end_time": "2025-06-23T00:47:39.091698Z",
     "start_time": "2025-06-23T00:47:35.116316Z"
    }
   },
   "cell_type": "code",
   "source": [
    "# Ejecutar conexión\n",
    "db_connection = conectar_y_validar_bd()"
   ],
   "outputs": [
    {
     "name": "stderr",
     "output_type": "stream",
     "text": [
      "INFO:SicossDataExtractor:Ejecutando consulta: \n",
      "        SELECT \n",
      "            COUNT(*) as total_legajos\n",
      "        FROM mapuche.dh01 \n",
      "        WHERE tipo...\n"
     ]
    },
    {
     "name": "stdout",
     "output_type": "stream",
     "text": [
      "✅ Conexión establecida exitosamente\n",
      "📊 Total legajos activos: 45,794\n",
      "✅ Datos disponibles para procesamiento\n"
     ]
    }
   ],
   "execution_count": 5
  },
  {
   "cell_type": "markdown",
   "metadata": {},
   "source": [
    "## Configuracion de parametros"
   ]
  },
  {
   "cell_type": "code",
   "metadata": {
    "ExecuteTime": {
     "end_time": "2025-06-23T00:47:46.196254Z",
     "start_time": "2025-06-23T00:47:46.181331Z"
    }
   },
   "source": [
    "print(\"\\n⚙️ PASO 3: Configurando parámetros SICOSS\")\n",
    "print(\"=\" * 50)\n",
    "\n",
    "# Configuración SICOSS (parámetros exactos)\n",
    "config_sicoss = SicossConfig(\n",
    "    tope_jubilatorio_patronal=4500000.00,\n",
    "    tope_jubilatorio_personal=4500000.00,\n",
    "    tope_otros_aportes_personales=99000000,\n",
    "    trunca_tope=True,\n",
    "    check_lic=False,\n",
    "    check_retro=False,\n",
    "    asignacion_familiar=False\n",
    ")\n",
    "\n",
    "# Parámetros de periodo (confirmados)\n",
    "PERIODO_ANO = 2025\n",
    "PERIODO_MES = 6\n",
    "CODC_REPARTO = 'REPA'\n",
    "\n",
    "# Límites de prueba progresivos\n",
    "LIMITES_PRUEBA = {\n",
    "    'mini': 10,      # Validación rápida\n",
    "    'pequeño': 50,   # Prueba pequeña  \n",
    "    'mediano': 200,  # Evaluación rendimiento\n",
    "    'grande': 1000,  # Validación escalabilidad\n",
    "    'xl': 5000       # Stress test (opcional)\n",
    "}\n",
    "\n",
    "print(\"✅ Configuración completada:\")\n",
    "print(f\"   💰 Tope jubilatorio: ${config_sicoss.tope_jubilatorio_patronal:,.0f}\")\n",
    "print(f\"   📅 Período: {PERIODO_ANO}/{PERIODO_MES}\")\n",
    "print(f\"   🏢 Reparto: {CODC_REPARTO}\")\n",
    "print(f\"   📊 Límites: {LIMITES_PRUEBA}\")"
   ],
   "outputs": [
    {
     "name": "stdout",
     "output_type": "stream",
     "text": [
      "\n",
      "⚙️ PASO 3: Configurando parámetros SICOSS\n",
      "==================================================\n",
      "✅ Configuración completada:\n",
      "   💰 Tope jubilatorio: $4,500,000\n",
      "   📅 Período: 2025/6\n",
      "   🏢 Reparto: REPA\n",
      "   📊 Límites: {'mini': 10, 'pequeño': 50, 'mediano': 200, 'grande': 1000, 'xl': 5000}\n"
     ]
    }
   ],
   "execution_count": 6
  },
  {
   "metadata": {},
   "cell_type": "markdown",
   "source": "# Extracción de datos"
  },
  {
   "metadata": {},
   "cell_type": "markdown",
   "source": "## Extracción de datos legajos"
  },
  {
   "cell_type": "code",
   "metadata": {
    "ExecuteTime": {
     "end_time": "2025-06-23T00:47:51.042661Z",
     "start_time": "2025-06-23T00:47:51.034689Z"
    }
   },
   "source": [
    "# TODO: probar con el extractor de licencias\n",
    "# Instanciar el extractor de licencias\n",
    "print(\"\\n🏥 Configurando extractor de licencias...\")\n",
    "\n",
    "# El extractor de licencias utiliza la misma conexión de base de datos\n",
    "extractor_licencias = MapucheLicenciasExtractor(db_connection)\n",
    "\n",
    "print(\"✅ Extractor de licencias configurado correctamente\")\n",
    "print(f\"   🔗 Conexión: {type(db_connection).__name__}\")\n",
    "print(f\"   📋 Listo para extraer datos de licencias\")\n",
    "\n",
    "# Ejemplo de uso básico (comentado para no ejecutar automáticamente)\n",
    "# df_licencias = extractor_licencias.extraer_licencias(\n",
    "#     per_anoct=PERIODO_ANO,\n",
    "#     per_mesct=PERIODO_MES,\n",
    "#     legajo_especifico=None,  # None para todos los legajos\n",
    "#     limite=LIMITES_PRUEBA['mini']  # Usar límite de prueba\n",
    "# )\n"
   ],
   "outputs": [
    {
     "name": "stdout",
     "output_type": "stream",
     "text": [
      "\n",
      "🏥 Configurando extractor de licencias...\n",
      "✅ Extractor de licencias configurado correctamente\n",
      "   🔗 Conexión: DatabaseConnection\n",
      "   📋 Listo para extraer datos de licencias\n"
     ]
    }
   ],
   "execution_count": 7
  },
  {
   "metadata": {},
   "cell_type": "markdown",
   "source": "## Extracción de datos conceptos"
  },
  {
   "cell_type": "code",
   "metadata": {
    "ExecuteTime": {
     "end_time": "2025-06-23T00:47:55.879875Z",
     "start_time": "2025-06-23T00:47:55.874778Z"
    }
   },
   "source": [
    "# TODO: probar con el extractor de licencias\n",
    "config = MapucheConfig(db_connection)"
   ],
   "outputs": [],
   "execution_count": 8
  },
  {
   "cell_type": "code",
   "metadata": {
    "ExecuteTime": {
     "end_time": "2025-06-23T00:47:58.637759Z",
     "start_time": "2025-06-23T00:47:58.628738Z"
    }
   },
   "source": [
    "config.get_fecha_inicio_periodo_corriente()"
   ],
   "outputs": [
    {
     "name": "stderr",
     "output_type": "stream",
     "text": [
      "ERROR:mapuche_config:Error obteniendo fecha inicio período: psycopg2.connect() argument after ** must be a mapping, not DatabaseConnection\n"
     ]
    }
   ],
   "execution_count": 9
  },
  {
   "cell_type": "code",
   "execution_count": null,
   "metadata": {},
   "outputs": [],
   "source": []
  },
  {
   "cell_type": "markdown",
   "metadata": {},
   "source": [
    "# EXTRACCION DE DATOS\n",
    "\n",
    "## Obtener Legajos"
   ]
  },
  {
   "cell_type": "code",
   "metadata": {
    "ExecuteTime": {
     "end_time": "2025-06-23T00:49:20.642306Z",
     "start_time": "2025-06-23T00:48:40.802095Z"
    }
   },
   "source": [
    "extractor = SicossDataExtractor(db_connection)\n",
    "\n",
    "\n",
    "df_legajos = extractor.extraer_legajos(\n",
    "    per_anoct=2025,\n",
    "    per_mesct=6,\n",
    "    where_legajo=\"true\"  # Para obtener todos los legajos\n",
    ")\n"
   ],
   "outputs": [
    {
     "name": "stderr",
     "output_type": "stream",
     "text": [
      "INFO:SicossDataExtractor:Ejecutando consulta: \n",
      "        SELECT\n",
      "            DISTINCT(dh01.nro_legaj),\n",
      "            (dh01.nro_cuil1::char(2)||LPAD(dh0...\n"
     ]
    }
   ],
   "execution_count": 10
  },
  {
   "cell_type": "code",
   "metadata": {
    "ExecuteTime": {
     "end_time": "2025-06-23T00:49:24.464469Z",
     "start_time": "2025-06-23T00:49:24.432331Z"
    }
   },
   "source": [
    "print(f\"Legajos obtenidos: {len(df_legajos)}\")\n",
    "df_legajos.head(2)"
   ],
   "outputs": [
    {
     "name": "stdout",
     "output_type": "stream",
     "text": [
      "Legajos obtenidos: 112055\n"
     ]
    },
    {
     "data": {
      "text/plain": [
       "   nro_legaj          cuit                      apyno estado  conyugue  hijos  \\\n",
       "0          9  2.004837e+10     GIBELLINI OSVALDO RENE      P         0      0   \n",
       "1         18  2.004137e+10  PETRUZZELLI LUIS SEBASTIA      P         0      0   \n",
       "\n",
       "  provincialocalidad  codigosituacion  codigocondicion codigozona  \\\n",
       "0               None              NaN              NaN       None   \n",
       "1               None              NaN              NaN       None   \n",
       "\n",
       "   codigoactividad  aporteadicional trabajadorconvencionado  \\\n",
       "0              NaN              NaN                    None   \n",
       "1              NaN              NaN                    None   \n",
       "\n",
       "   codigocontratacion regimen  adherentes  licencia  importeimponible_9  \n",
       "0                 NaN       1         0.0         0                   0  \n",
       "1                 NaN       1         0.0         0                   0  "
      ],
      "text/html": [
       "<div>\n",
       "<style scoped>\n",
       "    .dataframe tbody tr th:only-of-type {\n",
       "        vertical-align: middle;\n",
       "    }\n",
       "\n",
       "    .dataframe tbody tr th {\n",
       "        vertical-align: top;\n",
       "    }\n",
       "\n",
       "    .dataframe thead th {\n",
       "        text-align: right;\n",
       "    }\n",
       "</style>\n",
       "<table border=\"1\" class=\"dataframe\">\n",
       "  <thead>\n",
       "    <tr style=\"text-align: right;\">\n",
       "      <th></th>\n",
       "      <th>nro_legaj</th>\n",
       "      <th>cuit</th>\n",
       "      <th>apyno</th>\n",
       "      <th>estado</th>\n",
       "      <th>conyugue</th>\n",
       "      <th>hijos</th>\n",
       "      <th>provincialocalidad</th>\n",
       "      <th>codigosituacion</th>\n",
       "      <th>codigocondicion</th>\n",
       "      <th>codigozona</th>\n",
       "      <th>codigoactividad</th>\n",
       "      <th>aporteadicional</th>\n",
       "      <th>trabajadorconvencionado</th>\n",
       "      <th>codigocontratacion</th>\n",
       "      <th>regimen</th>\n",
       "      <th>adherentes</th>\n",
       "      <th>licencia</th>\n",
       "      <th>importeimponible_9</th>\n",
       "    </tr>\n",
       "  </thead>\n",
       "  <tbody>\n",
       "    <tr>\n",
       "      <th>0</th>\n",
       "      <td>9</td>\n",
       "      <td>2.004837e+10</td>\n",
       "      <td>GIBELLINI OSVALDO RENE</td>\n",
       "      <td>P</td>\n",
       "      <td>0</td>\n",
       "      <td>0</td>\n",
       "      <td>None</td>\n",
       "      <td>NaN</td>\n",
       "      <td>NaN</td>\n",
       "      <td>None</td>\n",
       "      <td>NaN</td>\n",
       "      <td>NaN</td>\n",
       "      <td>None</td>\n",
       "      <td>NaN</td>\n",
       "      <td>1</td>\n",
       "      <td>0.0</td>\n",
       "      <td>0</td>\n",
       "      <td>0</td>\n",
       "    </tr>\n",
       "    <tr>\n",
       "      <th>1</th>\n",
       "      <td>18</td>\n",
       "      <td>2.004137e+10</td>\n",
       "      <td>PETRUZZELLI LUIS SEBASTIA</td>\n",
       "      <td>P</td>\n",
       "      <td>0</td>\n",
       "      <td>0</td>\n",
       "      <td>None</td>\n",
       "      <td>NaN</td>\n",
       "      <td>NaN</td>\n",
       "      <td>None</td>\n",
       "      <td>NaN</td>\n",
       "      <td>NaN</td>\n",
       "      <td>None</td>\n",
       "      <td>NaN</td>\n",
       "      <td>1</td>\n",
       "      <td>0.0</td>\n",
       "      <td>0</td>\n",
       "      <td>0</td>\n",
       "    </tr>\n",
       "  </tbody>\n",
       "</table>\n",
       "</div>"
      ]
     },
     "execution_count": 11,
     "metadata": {},
     "output_type": "execute_result"
    }
   ],
   "execution_count": 11
  },
  {
   "cell_type": "code",
   "metadata": {
    "ExecuteTime": {
     "end_time": "2025-06-23T00:49:34.465357Z",
     "start_time": "2025-06-23T00:49:34.398356Z"
    }
   },
   "source": [
    "df_legajos.info()"
   ],
   "outputs": [
    {
     "name": "stdout",
     "output_type": "stream",
     "text": [
      "<class 'pandas.core.frame.DataFrame'>\n",
      "RangeIndex: 112055 entries, 0 to 112054\n",
      "Data columns (total 18 columns):\n",
      " #   Column                   Non-Null Count   Dtype  \n",
      "---  ------                   --------------   -----  \n",
      " 0   nro_legaj                112055 non-null  int64  \n",
      " 1   cuit                     112055 non-null  float64\n",
      " 2   apyno                    112055 non-null  object \n",
      " 3   estado                   112055 non-null  object \n",
      " 4   conyugue                 112055 non-null  int64  \n",
      " 5   hijos                    112055 non-null  int64  \n",
      " 6   provincialocalidad       1496 non-null    object \n",
      " 7   codigosituacion          80061 non-null   float64\n",
      " 8   codigocondicion          80061 non-null   float64\n",
      " 9   codigozona               80061 non-null   object \n",
      " 10  codigoactividad          37726 non-null   float64\n",
      " 11  aporteadicional          1496 non-null    float64\n",
      " 12  trabajadorconvencionado  0 non-null       object \n",
      " 13  codigocontratacion       80061 non-null   float64\n",
      " 14  regimen                  112055 non-null  object \n",
      " 15  adherentes               110554 non-null  float64\n",
      " 16  licencia                 112055 non-null  int64  \n",
      " 17  importeimponible_9       112055 non-null  int64  \n",
      "dtypes: float64(7), int64(5), object(6)\n",
      "memory usage: 15.4+ MB\n"
     ]
    }
   ],
   "execution_count": 12
  },
  {
   "cell_type": "code",
   "metadata": {
    "ExecuteTime": {
     "end_time": "2025-06-23T00:49:45.782335Z",
     "start_time": "2025-06-23T00:49:45.650098Z"
    }
   },
   "source": [
    "# Opción alternativa más específica para CUIT argentino\n",
    "df_legajos['cuit'] = df_legajos['cuit'].apply(lambda x: f\"{x:.0f}\".zfill(11))"
   ],
   "outputs": [],
   "execution_count": 13
  },
  {
   "cell_type": "code",
   "metadata": {
    "ExecuteTime": {
     "end_time": "2025-06-23T00:49:47.858897Z",
     "start_time": "2025-06-23T00:49:47.838216Z"
    }
   },
   "source": [
    "df_legajos.head(2)"
   ],
   "outputs": [
    {
     "data": {
      "text/plain": [
       "   nro_legaj         cuit                      apyno estado  conyugue  hijos  \\\n",
       "0          9  20048372571     GIBELLINI OSVALDO RENE      P         0      0   \n",
       "1         18  20041369486  PETRUZZELLI LUIS SEBASTIA      P         0      0   \n",
       "\n",
       "  provincialocalidad  codigosituacion  codigocondicion codigozona  \\\n",
       "0               None              NaN              NaN       None   \n",
       "1               None              NaN              NaN       None   \n",
       "\n",
       "   codigoactividad  aporteadicional trabajadorconvencionado  \\\n",
       "0              NaN              NaN                    None   \n",
       "1              NaN              NaN                    None   \n",
       "\n",
       "   codigocontratacion regimen  adherentes  licencia  importeimponible_9  \n",
       "0                 NaN       1         0.0         0                   0  \n",
       "1                 NaN       1         0.0         0                   0  "
      ],
      "text/html": [
       "<div>\n",
       "<style scoped>\n",
       "    .dataframe tbody tr th:only-of-type {\n",
       "        vertical-align: middle;\n",
       "    }\n",
       "\n",
       "    .dataframe tbody tr th {\n",
       "        vertical-align: top;\n",
       "    }\n",
       "\n",
       "    .dataframe thead th {\n",
       "        text-align: right;\n",
       "    }\n",
       "</style>\n",
       "<table border=\"1\" class=\"dataframe\">\n",
       "  <thead>\n",
       "    <tr style=\"text-align: right;\">\n",
       "      <th></th>\n",
       "      <th>nro_legaj</th>\n",
       "      <th>cuit</th>\n",
       "      <th>apyno</th>\n",
       "      <th>estado</th>\n",
       "      <th>conyugue</th>\n",
       "      <th>hijos</th>\n",
       "      <th>provincialocalidad</th>\n",
       "      <th>codigosituacion</th>\n",
       "      <th>codigocondicion</th>\n",
       "      <th>codigozona</th>\n",
       "      <th>codigoactividad</th>\n",
       "      <th>aporteadicional</th>\n",
       "      <th>trabajadorconvencionado</th>\n",
       "      <th>codigocontratacion</th>\n",
       "      <th>regimen</th>\n",
       "      <th>adherentes</th>\n",
       "      <th>licencia</th>\n",
       "      <th>importeimponible_9</th>\n",
       "    </tr>\n",
       "  </thead>\n",
       "  <tbody>\n",
       "    <tr>\n",
       "      <th>0</th>\n",
       "      <td>9</td>\n",
       "      <td>20048372571</td>\n",
       "      <td>GIBELLINI OSVALDO RENE</td>\n",
       "      <td>P</td>\n",
       "      <td>0</td>\n",
       "      <td>0</td>\n",
       "      <td>None</td>\n",
       "      <td>NaN</td>\n",
       "      <td>NaN</td>\n",
       "      <td>None</td>\n",
       "      <td>NaN</td>\n",
       "      <td>NaN</td>\n",
       "      <td>None</td>\n",
       "      <td>NaN</td>\n",
       "      <td>1</td>\n",
       "      <td>0.0</td>\n",
       "      <td>0</td>\n",
       "      <td>0</td>\n",
       "    </tr>\n",
       "    <tr>\n",
       "      <th>1</th>\n",
       "      <td>18</td>\n",
       "      <td>20041369486</td>\n",
       "      <td>PETRUZZELLI LUIS SEBASTIA</td>\n",
       "      <td>P</td>\n",
       "      <td>0</td>\n",
       "      <td>0</td>\n",
       "      <td>None</td>\n",
       "      <td>NaN</td>\n",
       "      <td>NaN</td>\n",
       "      <td>None</td>\n",
       "      <td>NaN</td>\n",
       "      <td>NaN</td>\n",
       "      <td>None</td>\n",
       "      <td>NaN</td>\n",
       "      <td>1</td>\n",
       "      <td>0.0</td>\n",
       "      <td>0</td>\n",
       "      <td>0</td>\n",
       "    </tr>\n",
       "  </tbody>\n",
       "</table>\n",
       "</div>"
      ]
     },
     "execution_count": 14,
     "metadata": {},
     "output_type": "execute_result"
    }
   ],
   "execution_count": 14
  },
  {
   "cell_type": "code",
   "metadata": {
    "ExecuteTime": {
     "end_time": "2025-06-23T00:49:53.916522Z",
     "start_time": "2025-06-23T00:49:53.889867Z"
    }
   },
   "source": [
    "where_legajo_conceptos = extractor.construir_where_conceptos(df_legajos['nro_legaj'].tolist())"
   ],
   "outputs": [],
   "execution_count": 15
  },
  {
   "metadata": {
    "ExecuteTime": {
     "end_time": "2025-06-23T00:49:56.054066Z",
     "start_time": "2025-06-23T00:49:56.046219Z"
    }
   },
   "cell_type": "code",
   "source": "len(where_legajo_conceptos)",
   "outputs": [
    {
     "data": {
      "text/plain": [
       "770091"
      ]
     },
     "execution_count": 16,
     "metadata": {},
     "output_type": "execute_result"
    }
   ],
   "execution_count": 16
  },
  {
   "cell_type": "markdown",
   "metadata": {},
   "source": [
    "## Extraer conceptos liquidados"
   ]
  },
  {
   "cell_type": "code",
   "metadata": {
    "ExecuteTime": {
     "end_time": "2025-06-23T00:56:39.168537Z",
     "start_time": "2025-06-23T00:50:06.832781Z"
    }
   },
   "source": [
    "df_conceptos = extractor.extraer_conceptos_liquidados(\n",
    "    per_anoct=2025,\n",
    "    per_mesct=6,\n",
    "    where_legajo=where_legajo_conceptos\n",
    ")"
   ],
   "outputs": [
    {
     "name": "stderr",
     "output_type": "stream",
     "text": [
      "INFO:SicossDataExtractor:Ejecutando consulta: \n",
      "        WITH tipos_grupos_conceptos AS (\n",
      "            SELECT\n",
      "                dh16.codn_conce,\n",
      "      ...\n"
     ]
    }
   ],
   "execution_count": 17
  },
  {
   "metadata": {
    "ExecuteTime": {
     "end_time": "2025-06-23T00:56:55.185162Z",
     "start_time": "2025-06-23T00:56:55.172038Z"
    }
   },
   "cell_type": "code",
   "source": "df_conceptos.shape",
   "outputs": [
    {
     "data": {
      "text/plain": [
       "(1620241, 12)"
      ]
     },
     "execution_count": 18,
     "metadata": {},
     "output_type": "execute_result"
    }
   ],
   "execution_count": 18
  },
  {
   "cell_type": "code",
   "metadata": {
    "ExecuteTime": {
     "end_time": "2025-06-23T00:28:20.314478Z",
     "start_time": "2025-06-23T00:28:20.305551Z"
    }
   },
   "source": [
    "df_conceptos.shape"
   ],
   "outputs": [
    {
     "data": {
      "text/plain": [
       "(1596932, 12)"
      ]
     },
     "execution_count": 21,
     "metadata": {},
     "output_type": "execute_result"
    }
   ],
   "execution_count": 21
  },
  {
   "cell_type": "code",
   "metadata": {
    "ExecuteTime": {
     "end_time": "2025-06-23T00:57:17.358730Z",
     "start_time": "2025-06-23T00:57:17.022338Z"
    }
   },
   "source": [
    "df_conceptos.info()"
   ],
   "outputs": [
    {
     "name": "stdout",
     "output_type": "stream",
     "text": [
      "<class 'pandas.core.frame.DataFrame'>\n",
      "RangeIndex: 1620241 entries, 0 to 1620240\n",
      "Data columns (total 12 columns):\n",
      " #   Column           Non-Null Count    Dtype  \n",
      "---  ------           --------------    -----  \n",
      " 0   id_liquidacion   1620241 non-null  int64  \n",
      " 1   impp_conce       1620241 non-null  float64\n",
      " 2   ano_retro        1620241 non-null  int64  \n",
      " 3   mes_retro        1620241 non-null  int64  \n",
      " 4   nro_legaj        1620241 non-null  int64  \n",
      " 5   codn_conce       1620241 non-null  int64  \n",
      " 6   tipo_conce       1620241 non-null  object \n",
      " 7   nro_cargo        1620241 non-null  int64  \n",
      " 8   nov1_conce       1620241 non-null  float64\n",
      " 9   nro_orimp        1620241 non-null  int64  \n",
      " 10  tipos_grupos     1620241 non-null  object \n",
      " 11  codigoescalafon  1620241 non-null  object \n",
      "dtypes: float64(2), int64(7), object(3)\n",
      "memory usage: 148.3+ MB\n"
     ]
    }
   ],
   "execution_count": 19
  },
  {
   "cell_type": "code",
   "metadata": {
    "ExecuteTime": {
     "end_time": "2025-06-23T00:57:21.512816Z",
     "start_time": "2025-06-23T00:57:21.494985Z"
    }
   },
   "source": [
    "df_conceptos.head()"
   ],
   "outputs": [
    {
     "data": {
      "text/plain": [
       "   id_liquidacion  impp_conce  ano_retro  mes_retro  nro_legaj  codn_conce  \\\n",
       "0        38570000   185761.89          0          0     235459         101   \n",
       "1        38570001   111457.13          0          0     235459         103   \n",
       "2        38570002    37152.38          0          0     235459         137   \n",
       "3        38570003       22.00          0          0     235459         174   \n",
       "4        38570004    11422.96          0          0     235459         192   \n",
       "\n",
       "  tipo_conce  nro_cargo  nov1_conce  nro_orimp     tipos_grupos  \\\n",
       "0          C     376269         0.0          1      [4, 29, 89]   \n",
       "1          C     376269        12.0          2      [4, 25, 89]   \n",
       "2          C     376269         0.0         19      [4, 41, 89]   \n",
       "3          S     376269         0.0         33  [4, 30, 45, 89]   \n",
       "4          C     376269         0.0         40      [4, 30, 89]   \n",
       "\n",
       "  codigoescalafon  \n",
       "0            DOCE  \n",
       "1            DOCE  \n",
       "2            DOCE  \n",
       "3            DOCE  \n",
       "4            DOCE  "
      ],
      "text/html": [
       "<div>\n",
       "<style scoped>\n",
       "    .dataframe tbody tr th:only-of-type {\n",
       "        vertical-align: middle;\n",
       "    }\n",
       "\n",
       "    .dataframe tbody tr th {\n",
       "        vertical-align: top;\n",
       "    }\n",
       "\n",
       "    .dataframe thead th {\n",
       "        text-align: right;\n",
       "    }\n",
       "</style>\n",
       "<table border=\"1\" class=\"dataframe\">\n",
       "  <thead>\n",
       "    <tr style=\"text-align: right;\">\n",
       "      <th></th>\n",
       "      <th>id_liquidacion</th>\n",
       "      <th>impp_conce</th>\n",
       "      <th>ano_retro</th>\n",
       "      <th>mes_retro</th>\n",
       "      <th>nro_legaj</th>\n",
       "      <th>codn_conce</th>\n",
       "      <th>tipo_conce</th>\n",
       "      <th>nro_cargo</th>\n",
       "      <th>nov1_conce</th>\n",
       "      <th>nro_orimp</th>\n",
       "      <th>tipos_grupos</th>\n",
       "      <th>codigoescalafon</th>\n",
       "    </tr>\n",
       "  </thead>\n",
       "  <tbody>\n",
       "    <tr>\n",
       "      <th>0</th>\n",
       "      <td>38570000</td>\n",
       "      <td>185761.89</td>\n",
       "      <td>0</td>\n",
       "      <td>0</td>\n",
       "      <td>235459</td>\n",
       "      <td>101</td>\n",
       "      <td>C</td>\n",
       "      <td>376269</td>\n",
       "      <td>0.0</td>\n",
       "      <td>1</td>\n",
       "      <td>[4, 29, 89]</td>\n",
       "      <td>DOCE</td>\n",
       "    </tr>\n",
       "    <tr>\n",
       "      <th>1</th>\n",
       "      <td>38570001</td>\n",
       "      <td>111457.13</td>\n",
       "      <td>0</td>\n",
       "      <td>0</td>\n",
       "      <td>235459</td>\n",
       "      <td>103</td>\n",
       "      <td>C</td>\n",
       "      <td>376269</td>\n",
       "      <td>12.0</td>\n",
       "      <td>2</td>\n",
       "      <td>[4, 25, 89]</td>\n",
       "      <td>DOCE</td>\n",
       "    </tr>\n",
       "    <tr>\n",
       "      <th>2</th>\n",
       "      <td>38570002</td>\n",
       "      <td>37152.38</td>\n",
       "      <td>0</td>\n",
       "      <td>0</td>\n",
       "      <td>235459</td>\n",
       "      <td>137</td>\n",
       "      <td>C</td>\n",
       "      <td>376269</td>\n",
       "      <td>0.0</td>\n",
       "      <td>19</td>\n",
       "      <td>[4, 41, 89]</td>\n",
       "      <td>DOCE</td>\n",
       "    </tr>\n",
       "    <tr>\n",
       "      <th>3</th>\n",
       "      <td>38570003</td>\n",
       "      <td>22.00</td>\n",
       "      <td>0</td>\n",
       "      <td>0</td>\n",
       "      <td>235459</td>\n",
       "      <td>174</td>\n",
       "      <td>S</td>\n",
       "      <td>376269</td>\n",
       "      <td>0.0</td>\n",
       "      <td>33</td>\n",
       "      <td>[4, 30, 45, 89]</td>\n",
       "      <td>DOCE</td>\n",
       "    </tr>\n",
       "    <tr>\n",
       "      <th>4</th>\n",
       "      <td>38570004</td>\n",
       "      <td>11422.96</td>\n",
       "      <td>0</td>\n",
       "      <td>0</td>\n",
       "      <td>235459</td>\n",
       "      <td>192</td>\n",
       "      <td>C</td>\n",
       "      <td>376269</td>\n",
       "      <td>0.0</td>\n",
       "      <td>40</td>\n",
       "      <td>[4, 30, 89]</td>\n",
       "      <td>DOCE</td>\n",
       "    </tr>\n",
       "  </tbody>\n",
       "</table>\n",
       "</div>"
      ]
     },
     "execution_count": 20,
     "metadata": {},
     "output_type": "execute_result"
    }
   ],
   "execution_count": 20
  },
  {
   "cell_type": "markdown",
   "metadata": {},
   "source": [
    "## Licencias"
   ]
  },
  {
   "cell_type": "code",
   "execution_count": null,
   "metadata": {},
   "outputs": [],
   "source": [
    "# TODO: obtener licencias de los legajos como dataframe"
   ]
  },
  {
   "cell_type": "code",
   "metadata": {},
   "source": [
    "# crear instancia del extractor\n",
    "licencias_extractor = MapucheLicenciasExtractor()"
   ],
   "outputs": [],
   "execution_count": null
  },
  {
   "cell_type": "markdown",
   "metadata": {},
   "source": []
  },
  {
   "cell_type": "code",
   "metadata": {
    "ExecuteTime": {
     "end_time": "2025-06-23T00:29:15.928343Z",
     "start_time": "2025-06-23T00:29:15.654035Z"
    }
   },
   "source": [
    "df_otra_actividad = extractor.extraer_otra_actividad(\n",
    "    df_legajos['nro_legaj'].tolist()\n",
    ")"
   ],
   "outputs": [
    {
     "name": "stderr",
     "output_type": "stream",
     "text": [
      "INFO:SicossDataExtractor:Ejecutando consulta: \n",
      "        SELECT\n",
      "\t\t\timporte AS ImporteBrutoOtraActividad,\n",
      "\t\t\timporte_sac AS ImporteSACOtraActividad\n",
      "\t...\n"
     ]
    }
   ],
   "execution_count": 25
  },
  {
   "metadata": {
    "ExecuteTime": {
     "end_time": "2025-06-23T00:30:28.008788Z",
     "start_time": "2025-06-23T00:30:27.996902Z"
    }
   },
   "cell_type": "code",
   "source": "df_otra_actividad.head(2)",
   "outputs": [
    {
     "data": {
      "text/plain": [
       "Empty DataFrame\n",
       "Columns: [importebrutootraactividad, importesacotraactividad]\n",
       "Index: []"
      ],
      "text/html": [
       "<div>\n",
       "<style scoped>\n",
       "    .dataframe tbody tr th:only-of-type {\n",
       "        vertical-align: middle;\n",
       "    }\n",
       "\n",
       "    .dataframe tbody tr th {\n",
       "        vertical-align: top;\n",
       "    }\n",
       "\n",
       "    .dataframe thead th {\n",
       "        text-align: right;\n",
       "    }\n",
       "</style>\n",
       "<table border=\"1\" class=\"dataframe\">\n",
       "  <thead>\n",
       "    <tr style=\"text-align: right;\">\n",
       "      <th></th>\n",
       "      <th>importebrutootraactividad</th>\n",
       "      <th>importesacotraactividad</th>\n",
       "    </tr>\n",
       "  </thead>\n",
       "  <tbody>\n",
       "  </tbody>\n",
       "</table>\n",
       "</div>"
      ]
     },
     "execution_count": 31,
     "metadata": {},
     "output_type": "execute_result"
    }
   ],
   "execution_count": 31
  },
  {
   "cell_type": "code",
   "metadata": {
    "ExecuteTime": {
     "end_time": "2025-06-23T00:29:29.794633Z",
     "start_time": "2025-06-23T00:29:29.363658Z"
    }
   },
   "source": [
    "df_obra_social = extractor.extraer_codigos_obra_social(\n",
    "    df_legajos['nro_legaj'].tolist()\n",
    ")"
   ],
   "outputs": [
    {
     "name": "stderr",
     "output_type": "stream",
     "text": [
      "INFO:SicossDataExtractor:Ejecutando consulta: \n",
      "        SELECT \n",
      "            nro_legaj,\n",
      "            '000000' AS codigo_os\n",
      "        FROM UNNEST(ARRAY[...\n"
     ]
    }
   ],
   "execution_count": 26
  },
  {
   "cell_type": "code",
   "metadata": {
    "ExecuteTime": {
     "end_time": "2025-06-23T00:29:51.280732Z",
     "start_time": "2025-06-23T00:29:51.271771Z"
    }
   },
   "source": "df_obra_social.tail(2)",
   "outputs": [
    {
     "data": {
      "text/plain": [
       "        nro_legaj codigo_os\n",
       "110751     257495    000000\n",
       "110752     257496    000000"
      ],
      "text/html": [
       "<div>\n",
       "<style scoped>\n",
       "    .dataframe tbody tr th:only-of-type {\n",
       "        vertical-align: middle;\n",
       "    }\n",
       "\n",
       "    .dataframe tbody tr th {\n",
       "        vertical-align: top;\n",
       "    }\n",
       "\n",
       "    .dataframe thead th {\n",
       "        text-align: right;\n",
       "    }\n",
       "</style>\n",
       "<table border=\"1\" class=\"dataframe\">\n",
       "  <thead>\n",
       "    <tr style=\"text-align: right;\">\n",
       "      <th></th>\n",
       "      <th>nro_legaj</th>\n",
       "      <th>codigo_os</th>\n",
       "    </tr>\n",
       "  </thead>\n",
       "  <tbody>\n",
       "    <tr>\n",
       "      <th>110751</th>\n",
       "      <td>257495</td>\n",
       "      <td>000000</td>\n",
       "    </tr>\n",
       "    <tr>\n",
       "      <th>110752</th>\n",
       "      <td>257496</td>\n",
       "      <td>000000</td>\n",
       "    </tr>\n",
       "  </tbody>\n",
       "</table>\n",
       "</div>"
      ]
     },
     "execution_count": 29,
     "metadata": {},
     "output_type": "execute_result"
    }
   ],
   "execution_count": 29
  },
  {
   "cell_type": "code",
   "metadata": {
    "ExecuteTime": {
     "end_time": "2025-06-23T00:29:58.010916Z",
     "start_time": "2025-06-23T00:29:57.992Z"
    }
   },
   "source": [
    "df_obra_social.info()"
   ],
   "outputs": [
    {
     "name": "stdout",
     "output_type": "stream",
     "text": [
      "<class 'pandas.core.frame.DataFrame'>\n",
      "RangeIndex: 110753 entries, 0 to 110752\n",
      "Data columns (total 2 columns):\n",
      " #   Column     Non-Null Count   Dtype \n",
      "---  ------     --------------   ----- \n",
      " 0   nro_legaj  110753 non-null  int64 \n",
      " 1   codigo_os  110753 non-null  object\n",
      "dtypes: int64(1), object(1)\n",
      "memory usage: 1.7+ MB\n"
     ]
    }
   ],
   "execution_count": 30
  },
  {
   "cell_type": "code",
   "metadata": {
    "ExecuteTime": {
     "end_time": "2025-06-23T00:30:46.426023Z",
     "start_time": "2025-06-23T00:30:46.420105Z"
    }
   },
   "source": [
    "# instanciar el procesador\n",
    "procesador = SicossDataProcessor(config_sicoss)"
   ],
   "outputs": [],
   "execution_count": 32
  },
  {
   "cell_type": "code",
   "metadata": {
    "ExecuteTime": {
     "end_time": "2025-06-23T00:35:58.091937Z",
     "start_time": "2025-06-23T00:35:58.087175Z"
    }
   },
   "source": [
    "datos_extraidos = {\n",
    "    'legajos': df_legajos,\n",
    "    'conceptos': df_conceptos,\n",
    "    'otra_actividad': df_otra_actividad,\n",
    "    'obra_social': df_obra_social\n",
    "}"
   ],
   "outputs": [],
   "execution_count": 33
  },
  {
   "cell_type": "code",
   "metadata": {
    "ExecuteTime": {
     "end_time": "2025-06-23T00:36:19.954905Z",
     "start_time": "2025-06-23T00:36:19.308182Z"
    }
   },
   "source": [
    "resultado = procesador.procesar_datos_extraidos(datos_extraidos)"
   ],
   "outputs": [
    {
     "name": "stderr",
     "output_type": "stream",
     "text": [
      "INFO:SicossDataExtractor:Iniciando procesamiento de datos extraídos...\n"
     ]
    }
   ],
   "execution_count": 34
  },
  {
   "cell_type": "code",
   "metadata": {
    "ExecuteTime": {
     "end_time": "2025-06-23T00:37:10.286653Z",
     "start_time": "2025-06-23T00:37:10.279796Z"
    }
   },
   "source": [
    "print(f\"Legajos procesados: {len(resultado['legajos_procesados'])}\")\n",
    "print(f\"Legajos válidos: {resultado['estadisticas']['legajos_validos']}\")\n",
    "print(f\"Legajos rechazados: {resultado['estadisticas']['legajos_rechazados']}\")"
   ],
   "outputs": [
    {
     "name": "stdout",
     "output_type": "stream",
     "text": [
      "Legajos procesados: 35290\n",
      "Legajos válidos: 35290\n",
      "Legajos rechazados: 75463\n"
     ]
    }
   ],
   "execution_count": 35
  },
  {
   "cell_type": "code",
   "metadata": {
    "ExecuteTime": {
     "end_time": "2025-06-23T00:37:21.276560Z",
     "start_time": "2025-06-23T00:37:21.269376Z"
    }
   },
   "source": [
    "type(resultado['totales'])"
   ],
   "outputs": [
    {
     "data": {
      "text/plain": [
       "dict"
      ]
     },
     "execution_count": 36,
     "metadata": {},
     "output_type": "execute_result"
    }
   ],
   "execution_count": 36
  },
  {
   "cell_type": "code",
   "metadata": {
    "ExecuteTime": {
     "end_time": "2025-06-23T00:37:30.079721Z",
     "start_time": "2025-06-23T00:37:30.071116Z"
    }
   },
   "source": [
    "print(\"\\nTotales calculados:\")\n",
    "for concepto, valor in resultado['totales'].items():\n",
    "    print(f\"  {concepto}: ${valor:,.2f}\")"
   ],
   "outputs": [
    {
     "name": "stdout",
     "output_type": "stream",
     "text": [
      "\n",
      "Totales calculados:\n",
      "  bruto: $59,457,459,660.36\n",
      "  imponible_1: $96,132,608,849.21\n",
      "  imponible_2: $59,457,459,660.36\n",
      "  imponible_4: $96,132,608,849.21\n",
      "  imponible_5: $96,132,608,849.21\n",
      "  imponible_6: $0.00\n",
      "  imponible_8: $96,132,608,849.21\n",
      "  imponible_9: $0.00\n"
     ]
    }
   ],
   "execution_count": 37
  },
  {
   "cell_type": "code",
   "metadata": {
    "ExecuteTime": {
     "end_time": "2025-06-23T00:37:58.553072Z",
     "start_time": "2025-06-23T00:37:58.517225Z"
    }
   },
   "source": [
    "df_sicoss_procesado = pd.DataFrame(resultado['legajos_procesados'])\n",
    "df_sicoss_procesado.head(2)"
   ],
   "outputs": [
    {
     "data": {
      "text/plain": [
       "     nro_legaj         cuit                    apyno estado  conyugue  hijos  \\\n",
       "88        2510  27024444290    CASPARRI MARIA TERESA      J         0      0   \n",
       "150       4254  27023362649  SAUTU MARIA ANTONIA RUT      J         0      0   \n",
       "\n",
       "    provincialocalidad  codigosituacion  codigocondicion codigozona  \\\n",
       "88                None              1.0             14.0          1   \n",
       "150               None              1.0             14.0          1   \n",
       "\n",
       "     codigoactividad  aporteadicional trabajadorconvencionado  \\\n",
       "88              37.0              NaN                    None   \n",
       "150             88.0              NaN                    None   \n",
       "\n",
       "     codigocontratacion regimen  adherentes  licencia  importeimponible_9  \\\n",
       "88                  8.0       1         0.0         0                   0   \n",
       "150                 8.0       1         0.0         0                   0   \n",
       "\n",
       "     ImporteSAC  ImporteNoRemun  ImporteHorasExtras  ImporteZonaDesfavorable  \\\n",
       "88   9281943.07             0.0                 0.0                      0.0   \n",
       "150  1566960.44             0.0                 0.0                      0.0   \n",
       "\n",
       "     ImporteVacaciones  ImportePremios  ImporteAdicionales  \\\n",
       "88                 0.0             0.0                 0.0   \n",
       "150                0.0             0.0                 0.0   \n",
       "\n",
       "     IncrementoSolidario  ImporteImponibleBecario  ImporteImponible_6  \\\n",
       "88                   0.0                      0.0                 0.0   \n",
       "150                  0.0                      0.0                 0.0   \n",
       "\n",
       "     SACInvestigador  NoRemun4y8  ImporteTipo91  ImporteNoRemun96  \\\n",
       "88               0.0         0.0            0.0               0.0   \n",
       "150              0.0         0.0            0.0               0.0   \n",
       "\n",
       "     ImporteBrutoOtraActividad  ImporteSACOtraActividad codigo_os  \\\n",
       "88                         0.0                      0.0    000000   \n",
       "150                        0.0                      0.0    000000   \n",
       "\n",
       "     Remuner78805  AsignacionesFliaresPagadas  ImporteImponiblePatronal  \\\n",
       "88     9281943.07                         0.0                2250000.00   \n",
       "150    1566960.44                         0.0                1566960.44   \n",
       "\n",
       "     ImporteSACPatronal  ImporteImponibleSinSAC  IMPORTE_BRUTO  IMPORTE_IMPON  \\\n",
       "88           2250000.00                     0.0     2250000.00     9281943.07   \n",
       "150          1566960.44                     0.0     1566960.44     1566960.44   \n",
       "\n",
       "     DiferenciaSACImponibleConTope  DiferenciaImponibleConTope  \\\n",
       "88                      7031943.07                         0.0   \n",
       "150                           0.00                         0.0   \n",
       "\n",
       "     ImporteSACNoDocente  ImporteImponible_4  ImporteImponible_5  \\\n",
       "88            9281943.07          9281943.07          9281943.07   \n",
       "150           1566960.44          1566960.44          1566960.44   \n",
       "\n",
       "     TipoDeOperacion  ImporteSueldoMasAdicionales  \n",
       "88                 1                          0.0  \n",
       "150                1                          0.0  "
      ],
      "text/html": [
       "<div>\n",
       "<style scoped>\n",
       "    .dataframe tbody tr th:only-of-type {\n",
       "        vertical-align: middle;\n",
       "    }\n",
       "\n",
       "    .dataframe tbody tr th {\n",
       "        vertical-align: top;\n",
       "    }\n",
       "\n",
       "    .dataframe thead th {\n",
       "        text-align: right;\n",
       "    }\n",
       "</style>\n",
       "<table border=\"1\" class=\"dataframe\">\n",
       "  <thead>\n",
       "    <tr style=\"text-align: right;\">\n",
       "      <th></th>\n",
       "      <th>nro_legaj</th>\n",
       "      <th>cuit</th>\n",
       "      <th>apyno</th>\n",
       "      <th>estado</th>\n",
       "      <th>conyugue</th>\n",
       "      <th>hijos</th>\n",
       "      <th>provincialocalidad</th>\n",
       "      <th>codigosituacion</th>\n",
       "      <th>codigocondicion</th>\n",
       "      <th>codigozona</th>\n",
       "      <th>codigoactividad</th>\n",
       "      <th>aporteadicional</th>\n",
       "      <th>trabajadorconvencionado</th>\n",
       "      <th>codigocontratacion</th>\n",
       "      <th>regimen</th>\n",
       "      <th>adherentes</th>\n",
       "      <th>licencia</th>\n",
       "      <th>importeimponible_9</th>\n",
       "      <th>ImporteSAC</th>\n",
       "      <th>ImporteNoRemun</th>\n",
       "      <th>ImporteHorasExtras</th>\n",
       "      <th>ImporteZonaDesfavorable</th>\n",
       "      <th>ImporteVacaciones</th>\n",
       "      <th>ImportePremios</th>\n",
       "      <th>ImporteAdicionales</th>\n",
       "      <th>IncrementoSolidario</th>\n",
       "      <th>ImporteImponibleBecario</th>\n",
       "      <th>ImporteImponible_6</th>\n",
       "      <th>SACInvestigador</th>\n",
       "      <th>NoRemun4y8</th>\n",
       "      <th>ImporteTipo91</th>\n",
       "      <th>ImporteNoRemun96</th>\n",
       "      <th>ImporteBrutoOtraActividad</th>\n",
       "      <th>ImporteSACOtraActividad</th>\n",
       "      <th>codigo_os</th>\n",
       "      <th>Remuner78805</th>\n",
       "      <th>AsignacionesFliaresPagadas</th>\n",
       "      <th>ImporteImponiblePatronal</th>\n",
       "      <th>ImporteSACPatronal</th>\n",
       "      <th>ImporteImponibleSinSAC</th>\n",
       "      <th>IMPORTE_BRUTO</th>\n",
       "      <th>IMPORTE_IMPON</th>\n",
       "      <th>DiferenciaSACImponibleConTope</th>\n",
       "      <th>DiferenciaImponibleConTope</th>\n",
       "      <th>ImporteSACNoDocente</th>\n",
       "      <th>ImporteImponible_4</th>\n",
       "      <th>ImporteImponible_5</th>\n",
       "      <th>TipoDeOperacion</th>\n",
       "      <th>ImporteSueldoMasAdicionales</th>\n",
       "    </tr>\n",
       "  </thead>\n",
       "  <tbody>\n",
       "    <tr>\n",
       "      <th>88</th>\n",
       "      <td>2510</td>\n",
       "      <td>27024444290</td>\n",
       "      <td>CASPARRI MARIA TERESA</td>\n",
       "      <td>J</td>\n",
       "      <td>0</td>\n",
       "      <td>0</td>\n",
       "      <td>None</td>\n",
       "      <td>1.0</td>\n",
       "      <td>14.0</td>\n",
       "      <td>1</td>\n",
       "      <td>37.0</td>\n",
       "      <td>NaN</td>\n",
       "      <td>None</td>\n",
       "      <td>8.0</td>\n",
       "      <td>1</td>\n",
       "      <td>0.0</td>\n",
       "      <td>0</td>\n",
       "      <td>0</td>\n",
       "      <td>9281943.07</td>\n",
       "      <td>0.0</td>\n",
       "      <td>0.0</td>\n",
       "      <td>0.0</td>\n",
       "      <td>0.0</td>\n",
       "      <td>0.0</td>\n",
       "      <td>0.0</td>\n",
       "      <td>0.0</td>\n",
       "      <td>0.0</td>\n",
       "      <td>0.0</td>\n",
       "      <td>0.0</td>\n",
       "      <td>0.0</td>\n",
       "      <td>0.0</td>\n",
       "      <td>0.0</td>\n",
       "      <td>0.0</td>\n",
       "      <td>0.0</td>\n",
       "      <td>000000</td>\n",
       "      <td>9281943.07</td>\n",
       "      <td>0.0</td>\n",
       "      <td>2250000.00</td>\n",
       "      <td>2250000.00</td>\n",
       "      <td>0.0</td>\n",
       "      <td>2250000.00</td>\n",
       "      <td>9281943.07</td>\n",
       "      <td>7031943.07</td>\n",
       "      <td>0.0</td>\n",
       "      <td>9281943.07</td>\n",
       "      <td>9281943.07</td>\n",
       "      <td>9281943.07</td>\n",
       "      <td>1</td>\n",
       "      <td>0.0</td>\n",
       "    </tr>\n",
       "    <tr>\n",
       "      <th>150</th>\n",
       "      <td>4254</td>\n",
       "      <td>27023362649</td>\n",
       "      <td>SAUTU MARIA ANTONIA RUT</td>\n",
       "      <td>J</td>\n",
       "      <td>0</td>\n",
       "      <td>0</td>\n",
       "      <td>None</td>\n",
       "      <td>1.0</td>\n",
       "      <td>14.0</td>\n",
       "      <td>1</td>\n",
       "      <td>88.0</td>\n",
       "      <td>NaN</td>\n",
       "      <td>None</td>\n",
       "      <td>8.0</td>\n",
       "      <td>1</td>\n",
       "      <td>0.0</td>\n",
       "      <td>0</td>\n",
       "      <td>0</td>\n",
       "      <td>1566960.44</td>\n",
       "      <td>0.0</td>\n",
       "      <td>0.0</td>\n",
       "      <td>0.0</td>\n",
       "      <td>0.0</td>\n",
       "      <td>0.0</td>\n",
       "      <td>0.0</td>\n",
       "      <td>0.0</td>\n",
       "      <td>0.0</td>\n",
       "      <td>0.0</td>\n",
       "      <td>0.0</td>\n",
       "      <td>0.0</td>\n",
       "      <td>0.0</td>\n",
       "      <td>0.0</td>\n",
       "      <td>0.0</td>\n",
       "      <td>0.0</td>\n",
       "      <td>000000</td>\n",
       "      <td>1566960.44</td>\n",
       "      <td>0.0</td>\n",
       "      <td>1566960.44</td>\n",
       "      <td>1566960.44</td>\n",
       "      <td>0.0</td>\n",
       "      <td>1566960.44</td>\n",
       "      <td>1566960.44</td>\n",
       "      <td>0.00</td>\n",
       "      <td>0.0</td>\n",
       "      <td>1566960.44</td>\n",
       "      <td>1566960.44</td>\n",
       "      <td>1566960.44</td>\n",
       "      <td>1</td>\n",
       "      <td>0.0</td>\n",
       "    </tr>\n",
       "  </tbody>\n",
       "</table>\n",
       "</div>"
      ]
     },
     "execution_count": 38,
     "metadata": {},
     "output_type": "execute_result"
    }
   ],
   "execution_count": 38
  },
  {
   "metadata": {
    "ExecuteTime": {
     "end_time": "2025-06-23T00:39:12.500734Z",
     "start_time": "2025-06-23T00:39:12.475235Z"
    }
   },
   "cell_type": "code",
   "source": [
    "filtro = df_sicoss_procesado['nro_legaj'] == 110830\n",
    "df_sicoss_procesado[filtro]"
   ],
   "outputs": [
    {
     "data": {
      "text/plain": [
       "       nro_legaj         cuit             apyno estado  conyugue  hijos  \\\n",
       "16976     110830  20183035860  CES ROMERO RAMON      A         0      0   \n",
       "\n",
       "      provincialocalidad  codigosituacion  codigocondicion codigozona  \\\n",
       "16976               None              1.0              1.0          1   \n",
       "\n",
       "       codigoactividad  aporteadicional trabajadorconvencionado  \\\n",
       "16976             17.0              NaN                    None   \n",
       "\n",
       "       codigocontratacion regimen  adherentes  licencia  importeimponible_9  \\\n",
       "16976                 8.0       1         0.0         0                   0   \n",
       "\n",
       "       ImporteSAC  ImporteNoRemun  ImporteHorasExtras  \\\n",
       "16976  8541877.57             0.0                 0.0   \n",
       "\n",
       "       ImporteZonaDesfavorable  ImporteVacaciones  ImportePremios  \\\n",
       "16976                      0.0                0.0             0.0   \n",
       "\n",
       "       ImporteAdicionales  IncrementoSolidario  ImporteImponibleBecario  \\\n",
       "16976                 0.0                  0.0                      0.0   \n",
       "\n",
       "       ImporteImponible_6  SACInvestigador  NoRemun4y8  ImporteTipo91  \\\n",
       "16976                 0.0              0.0         0.0            0.0   \n",
       "\n",
       "       ImporteNoRemun96  ImporteBrutoOtraActividad  ImporteSACOtraActividad  \\\n",
       "16976               0.0                        0.0                      0.0   \n",
       "\n",
       "      codigo_os  Remuner78805  AsignacionesFliaresPagadas  \\\n",
       "16976    000000    8541877.57                         0.0   \n",
       "\n",
       "       ImporteImponiblePatronal  ImporteSACPatronal  ImporteImponibleSinSAC  \\\n",
       "16976                 2250000.0           2250000.0                     0.0   \n",
       "\n",
       "       IMPORTE_BRUTO  IMPORTE_IMPON  DiferenciaSACImponibleConTope  \\\n",
       "16976      2250000.0     8541877.57                     6291877.57   \n",
       "\n",
       "       DiferenciaImponibleConTope  ImporteSACNoDocente  ImporteImponible_4  \\\n",
       "16976                         0.0           8541877.57          8541877.57   \n",
       "\n",
       "       ImporteImponible_5  TipoDeOperacion  ImporteSueldoMasAdicionales  \n",
       "16976          8541877.57                1                          0.0  "
      ],
      "text/html": [
       "<div>\n",
       "<style scoped>\n",
       "    .dataframe tbody tr th:only-of-type {\n",
       "        vertical-align: middle;\n",
       "    }\n",
       "\n",
       "    .dataframe tbody tr th {\n",
       "        vertical-align: top;\n",
       "    }\n",
       "\n",
       "    .dataframe thead th {\n",
       "        text-align: right;\n",
       "    }\n",
       "</style>\n",
       "<table border=\"1\" class=\"dataframe\">\n",
       "  <thead>\n",
       "    <tr style=\"text-align: right;\">\n",
       "      <th></th>\n",
       "      <th>nro_legaj</th>\n",
       "      <th>cuit</th>\n",
       "      <th>apyno</th>\n",
       "      <th>estado</th>\n",
       "      <th>conyugue</th>\n",
       "      <th>hijos</th>\n",
       "      <th>provincialocalidad</th>\n",
       "      <th>codigosituacion</th>\n",
       "      <th>codigocondicion</th>\n",
       "      <th>codigozona</th>\n",
       "      <th>codigoactividad</th>\n",
       "      <th>aporteadicional</th>\n",
       "      <th>trabajadorconvencionado</th>\n",
       "      <th>codigocontratacion</th>\n",
       "      <th>regimen</th>\n",
       "      <th>adherentes</th>\n",
       "      <th>licencia</th>\n",
       "      <th>importeimponible_9</th>\n",
       "      <th>ImporteSAC</th>\n",
       "      <th>ImporteNoRemun</th>\n",
       "      <th>ImporteHorasExtras</th>\n",
       "      <th>ImporteZonaDesfavorable</th>\n",
       "      <th>ImporteVacaciones</th>\n",
       "      <th>ImportePremios</th>\n",
       "      <th>ImporteAdicionales</th>\n",
       "      <th>IncrementoSolidario</th>\n",
       "      <th>ImporteImponibleBecario</th>\n",
       "      <th>ImporteImponible_6</th>\n",
       "      <th>SACInvestigador</th>\n",
       "      <th>NoRemun4y8</th>\n",
       "      <th>ImporteTipo91</th>\n",
       "      <th>ImporteNoRemun96</th>\n",
       "      <th>ImporteBrutoOtraActividad</th>\n",
       "      <th>ImporteSACOtraActividad</th>\n",
       "      <th>codigo_os</th>\n",
       "      <th>Remuner78805</th>\n",
       "      <th>AsignacionesFliaresPagadas</th>\n",
       "      <th>ImporteImponiblePatronal</th>\n",
       "      <th>ImporteSACPatronal</th>\n",
       "      <th>ImporteImponibleSinSAC</th>\n",
       "      <th>IMPORTE_BRUTO</th>\n",
       "      <th>IMPORTE_IMPON</th>\n",
       "      <th>DiferenciaSACImponibleConTope</th>\n",
       "      <th>DiferenciaImponibleConTope</th>\n",
       "      <th>ImporteSACNoDocente</th>\n",
       "      <th>ImporteImponible_4</th>\n",
       "      <th>ImporteImponible_5</th>\n",
       "      <th>TipoDeOperacion</th>\n",
       "      <th>ImporteSueldoMasAdicionales</th>\n",
       "    </tr>\n",
       "  </thead>\n",
       "  <tbody>\n",
       "    <tr>\n",
       "      <th>16976</th>\n",
       "      <td>110830</td>\n",
       "      <td>20183035860</td>\n",
       "      <td>CES ROMERO RAMON</td>\n",
       "      <td>A</td>\n",
       "      <td>0</td>\n",
       "      <td>0</td>\n",
       "      <td>None</td>\n",
       "      <td>1.0</td>\n",
       "      <td>1.0</td>\n",
       "      <td>1</td>\n",
       "      <td>17.0</td>\n",
       "      <td>NaN</td>\n",
       "      <td>None</td>\n",
       "      <td>8.0</td>\n",
       "      <td>1</td>\n",
       "      <td>0.0</td>\n",
       "      <td>0</td>\n",
       "      <td>0</td>\n",
       "      <td>8541877.57</td>\n",
       "      <td>0.0</td>\n",
       "      <td>0.0</td>\n",
       "      <td>0.0</td>\n",
       "      <td>0.0</td>\n",
       "      <td>0.0</td>\n",
       "      <td>0.0</td>\n",
       "      <td>0.0</td>\n",
       "      <td>0.0</td>\n",
       "      <td>0.0</td>\n",
       "      <td>0.0</td>\n",
       "      <td>0.0</td>\n",
       "      <td>0.0</td>\n",
       "      <td>0.0</td>\n",
       "      <td>0.0</td>\n",
       "      <td>0.0</td>\n",
       "      <td>000000</td>\n",
       "      <td>8541877.57</td>\n",
       "      <td>0.0</td>\n",
       "      <td>2250000.0</td>\n",
       "      <td>2250000.0</td>\n",
       "      <td>0.0</td>\n",
       "      <td>2250000.0</td>\n",
       "      <td>8541877.57</td>\n",
       "      <td>6291877.57</td>\n",
       "      <td>0.0</td>\n",
       "      <td>8541877.57</td>\n",
       "      <td>8541877.57</td>\n",
       "      <td>8541877.57</td>\n",
       "      <td>1</td>\n",
       "      <td>0.0</td>\n",
       "    </tr>\n",
       "  </tbody>\n",
       "</table>\n",
       "</div>"
      ]
     },
     "execution_count": 41,
     "metadata": {},
     "output_type": "execute_result"
    }
   ],
   "execution_count": 41
  },
  {
   "cell_type": "code",
   "metadata": {
    "ExecuteTime": {
     "end_time": "2025-06-23T00:38:04.297800Z",
     "start_time": "2025-06-23T00:38:04.253221Z"
    }
   },
   "source": [
    "df_sicoss_procesado.info()"
   ],
   "outputs": [
    {
     "name": "stdout",
     "output_type": "stream",
     "text": [
      "<class 'pandas.core.frame.DataFrame'>\n",
      "Index: 35290 entries, 88 to 110734\n",
      "Data columns (total 49 columns):\n",
      " #   Column                         Non-Null Count  Dtype  \n",
      "---  ------                         --------------  -----  \n",
      " 0   nro_legaj                      35290 non-null  int64  \n",
      " 1   cuit                           35290 non-null  object \n",
      " 2   apyno                          35290 non-null  object \n",
      " 3   estado                         35290 non-null  object \n",
      " 4   conyugue                       35290 non-null  int64  \n",
      " 5   hijos                          35290 non-null  int64  \n",
      " 6   provincialocalidad             119 non-null    object \n",
      " 7   codigosituacion                35173 non-null  float64\n",
      " 8   codigocondicion                35173 non-null  float64\n",
      " 9   codigozona                     35173 non-null  object \n",
      " 10  codigoactividad                34709 non-null  float64\n",
      " 11  aporteadicional                119 non-null    float64\n",
      " 12  trabajadorconvencionado        0 non-null      object \n",
      " 13  codigocontratacion             35173 non-null  float64\n",
      " 14  regimen                        35290 non-null  object \n",
      " 15  adherentes                     35170 non-null  float64\n",
      " 16  licencia                       35290 non-null  int64  \n",
      " 17  importeimponible_9             35290 non-null  int64  \n",
      " 18  ImporteSAC                     35290 non-null  float64\n",
      " 19  ImporteNoRemun                 35290 non-null  float64\n",
      " 20  ImporteHorasExtras             35290 non-null  float64\n",
      " 21  ImporteZonaDesfavorable        35290 non-null  float64\n",
      " 22  ImporteVacaciones              35290 non-null  float64\n",
      " 23  ImportePremios                 35290 non-null  float64\n",
      " 24  ImporteAdicionales             35290 non-null  float64\n",
      " 25  IncrementoSolidario            35290 non-null  float64\n",
      " 26  ImporteImponibleBecario        35290 non-null  float64\n",
      " 27  ImporteImponible_6             35290 non-null  float64\n",
      " 28  SACInvestigador                35290 non-null  float64\n",
      " 29  NoRemun4y8                     35290 non-null  float64\n",
      " 30  ImporteTipo91                  35290 non-null  float64\n",
      " 31  ImporteNoRemun96               35290 non-null  float64\n",
      " 32  ImporteBrutoOtraActividad      35290 non-null  float64\n",
      " 33  ImporteSACOtraActividad        35290 non-null  float64\n",
      " 34  codigo_os                      35290 non-null  object \n",
      " 35  Remuner78805                   35290 non-null  float64\n",
      " 36  AsignacionesFliaresPagadas     35290 non-null  float64\n",
      " 37  ImporteImponiblePatronal       35290 non-null  float64\n",
      " 38  ImporteSACPatronal             35290 non-null  float64\n",
      " 39  ImporteImponibleSinSAC         35290 non-null  float64\n",
      " 40  IMPORTE_BRUTO                  35290 non-null  float64\n",
      " 41  IMPORTE_IMPON                  35290 non-null  float64\n",
      " 42  DiferenciaSACImponibleConTope  35290 non-null  float64\n",
      " 43  DiferenciaImponibleConTope     35290 non-null  float64\n",
      " 44  ImporteSACNoDocente            35290 non-null  float64\n",
      " 45  ImporteImponible_4             35290 non-null  float64\n",
      " 46  ImporteImponible_5             35290 non-null  float64\n",
      " 47  TipoDeOperacion                35290 non-null  int64  \n",
      " 48  ImporteSueldoMasAdicionales    35290 non-null  float64\n",
      "dtypes: float64(35), int64(6), object(8)\n",
      "memory usage: 13.5+ MB\n"
     ]
    }
   ],
   "execution_count": 39
  },
  {
   "cell_type": "code",
   "execution_count": null,
   "metadata": {},
   "outputs": [],
   "source": []
  },
  {
   "cell_type": "code",
   "execution_count": null,
   "metadata": {},
   "outputs": [],
   "source": [
    "import matplotlib.pyplot as plt\n",
    "import seaborn as sns\n",
    "import pandas as pd\n",
    "\n",
    "\n",
    "\n",
    "# 1. Desanidar la columna 'tipos_grupos'\n",
    "# Cada elemento de la lista en 'tipos_grupos' se convierte en una nueva fila.\n",
    "df_grupos_exploded = df_conceptos.explode('tipos_grupos')\n",
    "\n",
    "# 2. Contar la frecuencia de cada tipo de grupo\n",
    "# cuántas veces aparece cada tipo de grupo en todas las liquidaciones.\n",
    "frecuencia_grupos = df_grupos_exploded['tipos_grupos'].value_counts()\n",
    "\n",
    "# 3. Preparar los datos para la gráfica (Top 15 para mayor claridad)\n",
    "top_n = 15\n",
    "grupos_top = frecuencia_grupos.head(top_n)\n",
    "\n",
    "# 4. Generar la visualización\n",
    "plt.style.use('seaborn-v0_8-darkgrid')\n",
    "fig, ax = plt.subplots(figsize=(12, 8))\n",
    "\n",
    "sns.barplot(x=grupos_top.values, y=grupos_top.index.astype(str), orient='h', palette='viridis', ax=ax)\n",
    "\n",
    "# Añadir etiquetas y títulos\n",
    "ax.set_title(f'Top {top_n} de Tipos de Grupos de Conceptos más Frecuentes', fontsize=16, weight='bold')\n",
    "ax.set_xlabel('Frecuencia (Cantidad de Apariciones)', fontsize=12)\n",
    "ax.set_ylabel('Código de Tipo de Grupo', fontsize=12)\n",
    "\n",
    "# Añadir el valor exacto en cada barra para mayor claridad\n",
    "for container in ax.containers:\n",
    "    ax.bar_label(container, fmt='%d', padding=3, fontsize=10)\n",
    "\n",
    "plt.tight_layout()\n",
    "plt.show()\n",
    "\n",
    "# 5. Mostrar la tabla de frecuencias\n",
    "print(f\"--- Frecuencia de los {top_n} Tipos de Grupos de Conceptos ---\")\n",
    "print(grupos_top)\n"
   ]
  },
  {
   "cell_type": "code",
   "execution_count": null,
   "metadata": {},
   "outputs": [],
   "source": [
    "# Exportar el DataFrame de legajos procesados a CSV\n",
    "df_legajos.to_csv('legajos_procesados.csv', \n",
    "                 index=False,\n",
    "                 encoding='utf-8')\n",
    "\n",
    "print(\"Archivo 'legajos_procesados.csv' exportado exitosamente\")\n",
    "\n"
   ]
  },
  {
   "cell_type": "code",
   "execution_count": null,
   "metadata": {},
   "outputs": [],
   "source": [
    "# Exportar el DataFrame de legajos procesados a Excel\n",
    "# df_legajos.to_excel('legajos_procesados.xlsx', \n",
    "#                    index=False,\n",
    "#                    sheet_name='Legajos',\n",
    "#                    engine='openpyxl')\n",
    "\n",
    "# print(\"Archivo 'legajos_procesados.xlsx' exportado exitosamente\")\n"
   ]
  },
  {
   "cell_type": "code",
   "execution_count": null,
   "metadata": {},
   "outputs": [],
   "source": [
    "filtro = resultado['legajos_procesados']['nro_legaj'] == 110830\n",
    "resultado['legajos_procesados'][filtro]"
   ]
  },
  {
   "metadata": {},
   "cell_type": "markdown",
   "source": "## trabajar con el df de conceptos"
  },
  {
   "metadata": {
    "ExecuteTime": {
     "end_time": "2025-06-23T01:09:25.829014Z",
     "start_time": "2025-06-23T01:09:25.792950Z"
    }
   },
   "cell_type": "code",
   "source": [
    "nro_legajo_buscar = 110830\n",
    "filtro_legajo = df_conceptos['nro_legaj'] == nro_legajo_buscar\n",
    "\n",
    "df_filtrado = df_conceptos[filtro_legajo]"
   ],
   "outputs": [],
   "execution_count": 25
  },
  {
   "metadata": {
    "ExecuteTime": {
     "end_time": "2025-06-23T01:09:40.823391Z",
     "start_time": "2025-06-23T01:09:40.771210Z"
    }
   },
   "cell_type": "code",
   "source": [
    "# Ver información del legajo filtrado\n",
    "print(f\"Legajo: {nro_legajo_buscar}\")\n",
    "print(f\"Total conceptos: {len(df_filtrado)}\")\n",
    "print(f\"Tipos de conceptos únicos: {df_filtrado['tipo_conce'].nunique()}\")\n",
    "print(f\"Suma total importes: ${df_filtrado['impp_conce'].sum():,.2f}\")"
   ],
   "outputs": [
    {
     "name": "stdout",
     "output_type": "stream",
     "text": [
      "Legajo: 110830\n",
      "Total conceptos: 54\n",
      "Tipos de conceptos únicos: 5\n",
      "Suma total importes: $8,541,877.57\n"
     ]
    }
   ],
   "execution_count": 26
  },
  {
   "metadata": {
    "ExecuteTime": {
     "end_time": "2025-06-23T01:14:15.168191Z",
     "start_time": "2025-06-23T01:14:12.986863Z"
    }
   },
   "cell_type": "code",
   "source": "df_conceptos_exploded = df_conceptos.explode('tipos_grupos')",
   "outputs": [],
   "execution_count": 28
  },
  {
   "metadata": {
    "ExecuteTime": {
     "end_time": "2025-06-23T01:25:57.278116Z",
     "start_time": "2025-06-23T01:25:57.118877Z"
    }
   },
   "cell_type": "code",
   "source": [
    "tipo_grupo_buscar = 9\n",
    "filtro = df_conceptos_exploded['tipos_grupos'] == tipo_grupo_buscar\n",
    "df_conceptos_exploded[filtro].head(2)"
   ],
   "outputs": [
    {
     "data": {
      "text/plain": [
       "         id_liquidacion  impp_conce  ano_retro  mes_retro  nro_legaj  \\\n",
       "1182680        40258424    86448.59          0          0     235459   \n",
       "1182689        40258445  1741772.77          0          0     119465   \n",
       "\n",
       "         codn_conce tipo_conce  nro_cargo  nov1_conce  nro_orimp tipos_grupos  \\\n",
       "1182680         123          C     376269         0.0          1            9   \n",
       "1182689         123          C     188952         0.0          1            9   \n",
       "\n",
       "        codigoescalafon  \n",
       "1182680            DOCE  \n",
       "1182689            NODO  "
      ],
      "text/html": [
       "<div>\n",
       "<style scoped>\n",
       "    .dataframe tbody tr th:only-of-type {\n",
       "        vertical-align: middle;\n",
       "    }\n",
       "\n",
       "    .dataframe tbody tr th {\n",
       "        vertical-align: top;\n",
       "    }\n",
       "\n",
       "    .dataframe thead th {\n",
       "        text-align: right;\n",
       "    }\n",
       "</style>\n",
       "<table border=\"1\" class=\"dataframe\">\n",
       "  <thead>\n",
       "    <tr style=\"text-align: right;\">\n",
       "      <th></th>\n",
       "      <th>id_liquidacion</th>\n",
       "      <th>impp_conce</th>\n",
       "      <th>ano_retro</th>\n",
       "      <th>mes_retro</th>\n",
       "      <th>nro_legaj</th>\n",
       "      <th>codn_conce</th>\n",
       "      <th>tipo_conce</th>\n",
       "      <th>nro_cargo</th>\n",
       "      <th>nov1_conce</th>\n",
       "      <th>nro_orimp</th>\n",
       "      <th>tipos_grupos</th>\n",
       "      <th>codigoescalafon</th>\n",
       "    </tr>\n",
       "  </thead>\n",
       "  <tbody>\n",
       "    <tr>\n",
       "      <th>1182680</th>\n",
       "      <td>40258424</td>\n",
       "      <td>86448.59</td>\n",
       "      <td>0</td>\n",
       "      <td>0</td>\n",
       "      <td>235459</td>\n",
       "      <td>123</td>\n",
       "      <td>C</td>\n",
       "      <td>376269</td>\n",
       "      <td>0.0</td>\n",
       "      <td>1</td>\n",
       "      <td>9</td>\n",
       "      <td>DOCE</td>\n",
       "    </tr>\n",
       "    <tr>\n",
       "      <th>1182689</th>\n",
       "      <td>40258445</td>\n",
       "      <td>1741772.77</td>\n",
       "      <td>0</td>\n",
       "      <td>0</td>\n",
       "      <td>119465</td>\n",
       "      <td>123</td>\n",
       "      <td>C</td>\n",
       "      <td>188952</td>\n",
       "      <td>0.0</td>\n",
       "      <td>1</td>\n",
       "      <td>9</td>\n",
       "      <td>NODO</td>\n",
       "    </tr>\n",
       "  </tbody>\n",
       "</table>\n",
       "</div>"
      ]
     },
     "execution_count": 45,
     "metadata": {},
     "output_type": "execute_result"
    }
   ],
   "execution_count": 45
  },
  {
   "metadata": {
    "ExecuteTime": {
     "end_time": "2025-06-23T01:27:17.889700Z",
     "start_time": "2025-06-23T01:27:17.670499Z"
    }
   },
   "cell_type": "code",
   "source": [
    "# buscar legajo y tipo de grupo\n",
    "tipo_grupo_buscar = 9\n",
    "nro_legajo_buscar = 110830\n",
    "\n",
    "filtro_tipo = df_conceptos_exploded['tipos_grupos'] == tipo_grupo_buscar\n",
    "filtro_legajo = df_conceptos_exploded['nro_legaj'] == nro_legajo_buscar\n",
    "filtro_combinado = filtro_tipo & filtro_legajo"
   ],
   "outputs": [],
   "execution_count": 48
  },
  {
   "metadata": {
    "ExecuteTime": {
     "end_time": "2025-06-23T01:29:25.928827Z",
     "start_time": "2025-06-23T01:29:25.920464Z"
    }
   },
   "cell_type": "code",
   "source": "print(f\"Conceptos del legajo {nro_legajo_buscar} tipo {tipo_grupo_buscar} : {len(df_conceptos_exploded[filtro_combinado])}\")",
   "outputs": [
    {
     "name": "stdout",
     "output_type": "stream",
     "text": [
      "Conceptos del legajo 110830 tipo 9 : 1\n"
     ]
    }
   ],
   "execution_count": 51
  },
  {
   "metadata": {
    "ExecuteTime": {
     "end_time": "2025-06-23T01:30:08.871889Z",
     "start_time": "2025-06-23T01:30:08.852345Z"
    }
   },
   "cell_type": "code",
   "source": "df_conceptos_exploded[filtro_combinado]",
   "outputs": [
    {
     "data": {
      "text/plain": [
       "         id_liquidacion  impp_conce  ano_retro  mes_retro  nro_legaj  \\\n",
       "1620032        41198521   2242844.8          0          0     110830   \n",
       "\n",
       "         codn_conce tipo_conce  nro_cargo  nov1_conce  nro_orimp tipos_grupos  \\\n",
       "1620032         123          C      34135         0.0          1            9   \n",
       "\n",
       "        codigoescalafon  \n",
       "1620032            NODO  "
      ],
      "text/html": [
       "<div>\n",
       "<style scoped>\n",
       "    .dataframe tbody tr th:only-of-type {\n",
       "        vertical-align: middle;\n",
       "    }\n",
       "\n",
       "    .dataframe tbody tr th {\n",
       "        vertical-align: top;\n",
       "    }\n",
       "\n",
       "    .dataframe thead th {\n",
       "        text-align: right;\n",
       "    }\n",
       "</style>\n",
       "<table border=\"1\" class=\"dataframe\">\n",
       "  <thead>\n",
       "    <tr style=\"text-align: right;\">\n",
       "      <th></th>\n",
       "      <th>id_liquidacion</th>\n",
       "      <th>impp_conce</th>\n",
       "      <th>ano_retro</th>\n",
       "      <th>mes_retro</th>\n",
       "      <th>nro_legaj</th>\n",
       "      <th>codn_conce</th>\n",
       "      <th>tipo_conce</th>\n",
       "      <th>nro_cargo</th>\n",
       "      <th>nov1_conce</th>\n",
       "      <th>nro_orimp</th>\n",
       "      <th>tipos_grupos</th>\n",
       "      <th>codigoescalafon</th>\n",
       "    </tr>\n",
       "  </thead>\n",
       "  <tbody>\n",
       "    <tr>\n",
       "      <th>1620032</th>\n",
       "      <td>41198521</td>\n",
       "      <td>2242844.8</td>\n",
       "      <td>0</td>\n",
       "      <td>0</td>\n",
       "      <td>110830</td>\n",
       "      <td>123</td>\n",
       "      <td>C</td>\n",
       "      <td>34135</td>\n",
       "      <td>0.0</td>\n",
       "      <td>1</td>\n",
       "      <td>9</td>\n",
       "      <td>NODO</td>\n",
       "    </tr>\n",
       "  </tbody>\n",
       "</table>\n",
       "</div>"
      ]
     },
     "execution_count": 52,
     "metadata": {},
     "output_type": "execute_result"
    }
   ],
   "execution_count": 52
  },
  {
   "metadata": {
    "ExecuteTime": {
     "end_time": "2025-06-23T01:44:17.184953Z",
     "start_time": "2025-06-23T01:44:17.043636Z"
    }
   },
   "cell_type": "code",
   "source": [
    "## conceptos tipo C\n",
    "tipo_conce_buscar = 'C'\n",
    "filtro_tipo = df_conceptos['tipo_conce'] == tipo_conce_buscar\n",
    "filtro_legajo = df_conceptos['nro_legaj'] == nro_legajo_buscar\n",
    "filtro_combinado = filtro_tipo & filtro_legajo\n",
    "\n",
    "df_conceptos[filtro_combinado]['impp_conce'].sum().__round__(2)"
   ],
   "outputs": [
    {
     "data": {
      "text/plain": [
       "np.float64(5781151.14)"
      ]
     },
     "execution_count": 61,
     "metadata": {},
     "output_type": "execute_result"
    }
   ],
   "execution_count": 61
  },
  {
   "metadata": {},
   "cell_type": "code",
   "outputs": [],
   "execution_count": null,
   "source": ""
  }
 ],
 "metadata": {
  "kernelspec": {
   "display_name": "Python 3",
   "language": "python",
   "name": "python3"
  },
  "language_info": {
   "codemirror_mode": {
    "name": "ipython",
    "version": 3
   },
   "file_extension": ".py",
   "mimetype": "text/x-python",
   "name": "python",
   "nbconvert_exporter": "python",
   "pygments_lexer": "ipython3",
   "version": "3.12.10"
  }
 },
 "nbformat": 4,
 "nbformat_minor": 2
}
